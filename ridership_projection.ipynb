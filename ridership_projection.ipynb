{
 "cells": [
  {
   "cell_type": "code",
   "execution_count": 1,
   "metadata": {},
   "outputs": [],
   "source": [
    "import pandas as pd\n",
    "import numpy as np\n",
    "import scipy as sp"
   ]
  },
  {
   "cell_type": "code",
   "execution_count": 2,
   "metadata": {},
   "outputs": [],
   "source": [
    "import matplotlib.pyplot as plt\n",
    "import matplotlib.dates as mdates\n",
    "plt.close('all')\n",
    "plt.rcParams['figure.figsize'] = [11,6]"
   ]
  },
  {
   "cell_type": "code",
   "execution_count": 3,
   "metadata": {},
   "outputs": [],
   "source": [
    "last_reported_sunday='2020-09-20'"
   ]
  },
  {
   "cell_type": "code",
   "execution_count": 4,
   "metadata": {},
   "outputs": [
    {
     "data": {
      "text/html": [
       "<div>\n",
       "<style scoped>\n",
       "    .dataframe tbody tr th:only-of-type {\n",
       "        vertical-align: middle;\n",
       "    }\n",
       "\n",
       "    .dataframe tbody tr th {\n",
       "        vertical-align: top;\n",
       "    }\n",
       "\n",
       "    .dataframe thead th {\n",
       "        text-align: right;\n",
       "    }\n",
       "</style>\n",
       "<table border=\"1\" class=\"dataframe\">\n",
       "  <thead>\n",
       "    <tr style=\"text-align: right;\">\n",
       "      <th></th>\n",
       "      <th>stop_name</th>\n",
       "      <th>daytime_routes</th>\n",
       "      <th>division</th>\n",
       "      <th>line</th>\n",
       "      <th>borough</th>\n",
       "      <th>structure</th>\n",
       "      <th>gtfs_longitude</th>\n",
       "      <th>gtfs_latitude</th>\n",
       "      <th>complex_id</th>\n",
       "      <th>entries</th>\n",
       "      <th>exits</th>\n",
       "    </tr>\n",
       "    <tr>\n",
       "      <th>date</th>\n",
       "      <th></th>\n",
       "      <th></th>\n",
       "      <th></th>\n",
       "      <th></th>\n",
       "      <th></th>\n",
       "      <th></th>\n",
       "      <th></th>\n",
       "      <th></th>\n",
       "      <th></th>\n",
       "      <th></th>\n",
       "      <th></th>\n",
       "    </tr>\n",
       "  </thead>\n",
       "  <tbody>\n",
       "    <tr>\n",
       "      <th>2020-01-01</th>\n",
       "      <td>Astoria - Ditmars Blvd</td>\n",
       "      <td>N W</td>\n",
       "      <td>BMT</td>\n",
       "      <td>Astoria</td>\n",
       "      <td>Q</td>\n",
       "      <td>Elevated</td>\n",
       "      <td>-73.912034</td>\n",
       "      <td>40.775036</td>\n",
       "      <td>1</td>\n",
       "      <td>5812.0</td>\n",
       "      <td>6659.0</td>\n",
       "    </tr>\n",
       "    <tr>\n",
       "      <th>2020-01-02</th>\n",
       "      <td>Astoria - Ditmars Blvd</td>\n",
       "      <td>N W</td>\n",
       "      <td>BMT</td>\n",
       "      <td>Astoria</td>\n",
       "      <td>Q</td>\n",
       "      <td>Elevated</td>\n",
       "      <td>-73.912034</td>\n",
       "      <td>40.775036</td>\n",
       "      <td>1</td>\n",
       "      <td>15506.0</td>\n",
       "      <td>14307.0</td>\n",
       "    </tr>\n",
       "    <tr>\n",
       "      <th>2020-01-03</th>\n",
       "      <td>Astoria - Ditmars Blvd</td>\n",
       "      <td>N W</td>\n",
       "      <td>BMT</td>\n",
       "      <td>Astoria</td>\n",
       "      <td>Q</td>\n",
       "      <td>Elevated</td>\n",
       "      <td>-73.912034</td>\n",
       "      <td>40.775036</td>\n",
       "      <td>1</td>\n",
       "      <td>15959.0</td>\n",
       "      <td>14500.0</td>\n",
       "    </tr>\n",
       "    <tr>\n",
       "      <th>2020-01-04</th>\n",
       "      <td>Astoria - Ditmars Blvd</td>\n",
       "      <td>N W</td>\n",
       "      <td>BMT</td>\n",
       "      <td>Astoria</td>\n",
       "      <td>Q</td>\n",
       "      <td>Elevated</td>\n",
       "      <td>-73.912034</td>\n",
       "      <td>40.775036</td>\n",
       "      <td>1</td>\n",
       "      <td>9265.0</td>\n",
       "      <td>9161.0</td>\n",
       "    </tr>\n",
       "    <tr>\n",
       "      <th>2020-01-05</th>\n",
       "      <td>Astoria - Ditmars Blvd</td>\n",
       "      <td>N W</td>\n",
       "      <td>BMT</td>\n",
       "      <td>Astoria</td>\n",
       "      <td>Q</td>\n",
       "      <td>Elevated</td>\n",
       "      <td>-73.912034</td>\n",
       "      <td>40.775036</td>\n",
       "      <td>1</td>\n",
       "      <td>7191.0</td>\n",
       "      <td>7743.0</td>\n",
       "    </tr>\n",
       "    <tr>\n",
       "      <th>...</th>\n",
       "      <td>...</td>\n",
       "      <td>...</td>\n",
       "      <td>...</td>\n",
       "      <td>...</td>\n",
       "      <td>...</td>\n",
       "      <td>...</td>\n",
       "      <td>...</td>\n",
       "      <td>...</td>\n",
       "      <td>...</td>\n",
       "      <td>...</td>\n",
       "      <td>...</td>\n",
       "    </tr>\n",
       "    <tr>\n",
       "      <th>2020-09-21</th>\n",
       "      <td>Journal Sq</td>\n",
       "      <td>NaN</td>\n",
       "      <td>PTH</td>\n",
       "      <td>NaN</td>\n",
       "      <td>NaN</td>\n",
       "      <td>NaN</td>\n",
       "      <td>-74.068632</td>\n",
       "      <td>40.730304</td>\n",
       "      <td>R552</td>\n",
       "      <td>9236.0</td>\n",
       "      <td>8155.0</td>\n",
       "    </tr>\n",
       "    <tr>\n",
       "      <th>2020-09-22</th>\n",
       "      <td>Journal Sq</td>\n",
       "      <td>NaN</td>\n",
       "      <td>PTH</td>\n",
       "      <td>NaN</td>\n",
       "      <td>NaN</td>\n",
       "      <td>NaN</td>\n",
       "      <td>-74.068632</td>\n",
       "      <td>40.730304</td>\n",
       "      <td>R552</td>\n",
       "      <td>9578.0</td>\n",
       "      <td>8248.0</td>\n",
       "    </tr>\n",
       "    <tr>\n",
       "      <th>2020-09-23</th>\n",
       "      <td>Journal Sq</td>\n",
       "      <td>NaN</td>\n",
       "      <td>PTH</td>\n",
       "      <td>NaN</td>\n",
       "      <td>NaN</td>\n",
       "      <td>NaN</td>\n",
       "      <td>-74.068632</td>\n",
       "      <td>40.730304</td>\n",
       "      <td>R552</td>\n",
       "      <td>9772.0</td>\n",
       "      <td>8283.0</td>\n",
       "    </tr>\n",
       "    <tr>\n",
       "      <th>2020-09-24</th>\n",
       "      <td>Journal Sq</td>\n",
       "      <td>NaN</td>\n",
       "      <td>PTH</td>\n",
       "      <td>NaN</td>\n",
       "      <td>NaN</td>\n",
       "      <td>NaN</td>\n",
       "      <td>-74.068632</td>\n",
       "      <td>40.730304</td>\n",
       "      <td>R552</td>\n",
       "      <td>9715.0</td>\n",
       "      <td>8149.0</td>\n",
       "    </tr>\n",
       "    <tr>\n",
       "      <th>2020-09-25</th>\n",
       "      <td>Journal Sq</td>\n",
       "      <td>NaN</td>\n",
       "      <td>PTH</td>\n",
       "      <td>NaN</td>\n",
       "      <td>NaN</td>\n",
       "      <td>NaN</td>\n",
       "      <td>-74.068632</td>\n",
       "      <td>40.730304</td>\n",
       "      <td>R552</td>\n",
       "      <td>10059.0</td>\n",
       "      <td>8208.0</td>\n",
       "    </tr>\n",
       "  </tbody>\n",
       "</table>\n",
       "<p>119249 rows × 11 columns</p>\n",
       "</div>"
      ],
      "text/plain": [
       "                         stop_name daytime_routes division     line borough  \\\n",
       "date                                                                          \n",
       "2020-01-01  Astoria - Ditmars Blvd            N W      BMT  Astoria       Q   \n",
       "2020-01-02  Astoria - Ditmars Blvd            N W      BMT  Astoria       Q   \n",
       "2020-01-03  Astoria - Ditmars Blvd            N W      BMT  Astoria       Q   \n",
       "2020-01-04  Astoria - Ditmars Blvd            N W      BMT  Astoria       Q   \n",
       "2020-01-05  Astoria - Ditmars Blvd            N W      BMT  Astoria       Q   \n",
       "...                            ...            ...      ...      ...     ...   \n",
       "2020-09-21              Journal Sq            NaN      PTH      NaN     NaN   \n",
       "2020-09-22              Journal Sq            NaN      PTH      NaN     NaN   \n",
       "2020-09-23              Journal Sq            NaN      PTH      NaN     NaN   \n",
       "2020-09-24              Journal Sq            NaN      PTH      NaN     NaN   \n",
       "2020-09-25              Journal Sq            NaN      PTH      NaN     NaN   \n",
       "\n",
       "           structure  gtfs_longitude  gtfs_latitude complex_id  entries  \\\n",
       "date                                                                      \n",
       "2020-01-01  Elevated      -73.912034      40.775036          1   5812.0   \n",
       "2020-01-02  Elevated      -73.912034      40.775036          1  15506.0   \n",
       "2020-01-03  Elevated      -73.912034      40.775036          1  15959.0   \n",
       "2020-01-04  Elevated      -73.912034      40.775036          1   9265.0   \n",
       "2020-01-05  Elevated      -73.912034      40.775036          1   7191.0   \n",
       "...              ...             ...            ...        ...      ...   \n",
       "2020-09-21       NaN      -74.068632      40.730304       R552   9236.0   \n",
       "2020-09-22       NaN      -74.068632      40.730304       R552   9578.0   \n",
       "2020-09-23       NaN      -74.068632      40.730304       R552   9772.0   \n",
       "2020-09-24       NaN      -74.068632      40.730304       R552   9715.0   \n",
       "2020-09-25       NaN      -74.068632      40.730304       R552  10059.0   \n",
       "\n",
       "              exits  \n",
       "date                 \n",
       "2020-01-01   6659.0  \n",
       "2020-01-02  14307.0  \n",
       "2020-01-03  14500.0  \n",
       "2020-01-04   9161.0  \n",
       "2020-01-05   7743.0  \n",
       "...             ...  \n",
       "2020-09-21   8155.0  \n",
       "2020-09-22   8248.0  \n",
       "2020-09-23   8283.0  \n",
       "2020-09-24   8149.0  \n",
       "2020-09-25   8208.0  \n",
       "\n",
       "[119249 rows x 11 columns]"
      ]
     },
     "execution_count": 4,
     "metadata": {},
     "output_type": "execute_result"
    }
   ],
   "source": [
    "df = pd.read_csv(\"turnstile_daily_counts_2020.csv\",header=0,parse_dates=True, index_col='date', low_memory=False)\n",
    "df"
   ]
  },
  {
   "cell_type": "code",
   "execution_count": 5,
   "metadata": {},
   "outputs": [],
   "source": [
    "counts = df.groupby('date')['entries'].sum() # returns a Series"
   ]
  },
  {
   "cell_type": "code",
   "execution_count": 6,
   "metadata": {},
   "outputs": [],
   "source": [
    "max_weekly_ridership = 34368521"
   ]
  },
  {
   "cell_type": "code",
   "execution_count": 7,
   "metadata": {},
   "outputs": [],
   "source": [
    "# # date of ridership min and max\n",
    "# counts.idxmin(),counts.min(), counts.idxmax(),counts.max()"
   ]
  },
  {
   "cell_type": "code",
   "execution_count": 8,
   "metadata": {},
   "outputs": [],
   "source": [
    "# weekly rider totals -- peak week = 34368521\n",
    "weekly_totals = counts.resample('W-MON').sum()"
   ]
  },
  {
   "cell_type": "code",
   "execution_count": 9,
   "metadata": {},
   "outputs": [],
   "source": [
    "s_daily=counts.truncate(before=counts.idxmin(), after=pd.Timestamp(last_reported_sunday))"
   ]
  },
  {
   "cell_type": "markdown",
   "metadata": {},
   "source": [
    "## daily entries from April 12 low"
   ]
  },
  {
   "cell_type": "code",
   "execution_count": 10,
   "metadata": {},
   "outputs": [
    {
     "data": {
      "text/plain": [
       "<AxesSubplot:xlabel='date'>"
      ]
     },
     "execution_count": 10,
     "metadata": {},
     "output_type": "execute_result"
    },
    {
     "data": {
      "image/png": "[encoded data removed]",
      "text/plain": [
       "<Figure size 432x288 with 1 Axes>"
      ]
     },
     "metadata": {
      "needs_background": "light"
     },
     "output_type": "display_data"
    }
   ],
   "source": [
    "s_daily.plot()"
   ]
  },
  {
   "cell_type": "markdown",
   "metadata": {},
   "source": [
    "## by week"
   ]
  },
  {
   "cell_type": "code",
   "execution_count": 11,
   "metadata": {},
   "outputs": [
    {
     "data": {
      "text/plain": [
       "<AxesSubplot:xlabel='date'>"
      ]
     },
     "execution_count": 11,
     "metadata": {},
     "output_type": "execute_result"
    },
    {
     "data": {
      "image/png": "[encoded data removed]",
      "text/plain": [
       "<Figure size 432x288 with 1 Axes>"
      ]
     },
     "metadata": {
      "needs_background": "light"
     },
     "output_type": "display_data"
    }
   ],
   "source": [
    "s_weekly = s_daily.resample('W-MON').sum()\n",
    "s_weekly.plot()\n",
    "# interpolated = s_weekly.interpolate(method='spline', order=2)\n",
    "# interpolated.plot()"
   ]
  },
  {
   "cell_type": "markdown",
   "metadata": {},
   "source": [
    "## 2020"
   ]
  },
  {
   "cell_type": "code",
   "execution_count": 12,
   "metadata": {},
   "outputs": [],
   "source": [
    "# 2020\n",
    "end_2020=pd.Timestamp('2020-12-31')\n",
    "#end_2020=pd.Timestamp('2020-12-28')\n",
    "s_weekly_2020 = s_weekly # make working copy\n",
    "weekly_index2020 = pd.date_range(counts.idxmin(), end_2020, freq='W-MON') # create new index\n",
    "s_weekly_2020 = s_weekly_2020.reindex(weekly_index2020) # reindex with new index\n",
    "s_weekly_2020.interpolate() # interpolate\n",
    "s_weekly_2020 = s_weekly_2020.append(pd.Series([max_weekly_ridership], index=[pd.Timestamp(end_2020)])) # populate final value\n",
    "x2020 = s_weekly_2020.interpolate(method='linear') # interpolate\n"
   ]
  },
  {
   "cell_type": "markdown",
   "metadata": {},
   "source": [
    "## 2021"
   ]
  },
  {
   "cell_type": "code",
   "execution_count": 13,
   "metadata": {},
   "outputs": [],
   "source": [
    "# 2021\n",
    "end_2021=pd.Timestamp('2021-12-31')\n",
    "s_weekly_2021 = s_weekly # make working copy\n",
    "weekly_index2021 = pd.date_range(counts.idxmin(), end_2021, freq='W-MON') # create new index\n",
    "s_weekly_2021 = s_weekly_2021.reindex(weekly_index2021) # reindex with new index\n",
    "s_weekly_2021.interpolate() # interpolate\n",
    "s_weekly_2021 = s_weekly_2021.append(pd.Series([max_weekly_ridership], index=[pd.Timestamp(end_2021)])) # populate final value\n",
    "x2021 = s_weekly_2021.interpolate(method='linear') # interpolate\n"
   ]
  },
  {
   "cell_type": "markdown",
   "metadata": {},
   "source": [
    "## 2022"
   ]
  },
  {
   "cell_type": "code",
   "execution_count": 14,
   "metadata": {},
   "outputs": [],
   "source": [
    "# 2022\n",
    "end_2022=pd.Timestamp('2022-12-31')\n",
    "s_weekly_2022 = s_weekly # make working copy\n",
    "weekly_index2022 = pd.date_range(counts.idxmin(), end_2022, freq='W-MON') # create new index\n",
    "s_weekly_2022 = s_weekly_2022.reindex(weekly_index2022) # reindex with new index\n",
    "s_weekly_2022.interpolate() # interpolate\n",
    "s_weekly_2022 = s_weekly_2022.append(pd.Series([max_weekly_ridership], index=[pd.Timestamp(end_2022)])) # populate final value\n",
    "x2022 = s_weekly_2022.interpolate(method='linear') # interpolate\n"
   ]
  },
  {
   "cell_type": "code",
   "execution_count": 15,
   "metadata": {},
   "outputs": [
    {
     "data": {
      "image/png": "[encoded data removed]",
      "text/plain": [
       "<Figure size 432x288 with 1 Axes>"
      ]
     },
     "metadata": {
      "needs_background": "light"
     },
     "output_type": "display_data"
    }
   ],
   "source": [
    "plt.plot(x2020, label='linear')\n",
    "plt.plot(x2021, label='quadratic')\n",
    "plt.plot(x2022, label='cubic')\n",
    "\n",
    "plt.xlabel('Weekly riders (10m)')\n",
    "plt.ylabel('Week of Monday')\n",
    "\n",
    "plt.title(\"Subway Ridership Forecasts\")\n",
    "\n",
    "plt.legend()\n",
    "\n",
    "plt.show()"
   ]
  },
  {
   "cell_type": "markdown",
   "metadata": {},
   "source": [
    "# machine learning model"
   ]
  },
  {
   "cell_type": "code",
   "execution_count": 17,
   "metadata": {},
   "outputs": [
    {
     "data": {
      "text/plain": [
       "<AxesSubplot:xlabel='date'>"
      ]
     },
     "execution_count": 17,
     "metadata": {},
     "output_type": "execute_result"
    },
    {
     "data": {
      "image/png": "[encoded data removed]",
      "text/plain": [
       "<Figure size 432x288 with 1 Axes>"
      ]
     },
     "metadata": {
      "needs_background": "light"
     },
     "output_type": "display_data"
    }
   ],
   "source": [
    "# test - train split\n",
    "df['entries'].loc['2020-04-02':'2020-07-31'].plot(kind='line')\n",
    "df['entries'].loc['2020-07-31':].plot(kind='line', color='r')"
   ]
  },
  {
   "cell_type": "code",
   "execution_count": 20,
   "metadata": {},
   "outputs": [
    {
     "data": {
      "text/plain": [
       "DatetimeIndex(['2020-01-01', '2020-01-02', '2020-01-03', '2020-01-04',\n",
       "               '2020-01-05', '2020-01-06', '2020-01-07', '2020-01-08',\n",
       "               '2020-01-09', '2020-01-10',\n",
       "               ...\n",
       "               '2020-09-16', '2020-09-17', '2020-09-18', '2020-09-19',\n",
       "               '2020-09-20', '2020-09-21', '2020-09-22', '2020-09-23',\n",
       "               '2020-09-24', '2020-09-25'],\n",
       "              dtype='datetime64[ns]', name='date', length=119249, freq=None)"
      ]
     },
     "execution_count": 20,
     "metadata": {},
     "output_type": "execute_result"
    }
   ],
   "source": [
    "df.index"
   ]
  },
  {
   "cell_type": "code",
   "execution_count": 24,
   "metadata": {},
   "outputs": [],
   "source": [
    "# create data features\n",
    "import datetime\n",
    "df['year'] = df.index.year\n",
    "df['month'] = df.index.month\n",
    "df['day'] = df.index.day\n",
    "df['dayofyear'] = df.index.dayofyear\n",
    "df['weekofyear'] = df.index.isocalendar().week"
   ]
  },
  {
   "cell_type": "markdown",
   "metadata": {},
   "source": [
    "# ------------------------stopped working here------------------------"
   ]
  },
  {
   "cell_type": "code",
   "execution_count": null,
   "metadata": {},
   "outputs": [],
   "source": [
    "# make dummies\n",
    "df = pd.get_dummies(df, columns=['year'], drop_first=True, prefix='year')\n",
    "\n",
    "df = pd.get_dummies(df, columns=['month'], drop_first=True, prefix='month')\n",
    "\n",
    "df = pd.get_dummies(df, columns=['weekday'], drop_first=True, prefix='wday')\n",
    "df = pd.get_dummies(df, columns=['quarter'], drop_first=True, prefix='qrtr')\n",
    "\n",
    "df = pd.get_dummies(df, columns=['is_month_start'], drop_first=True, prefix='m_start')\n",
    "\n",
    "df = pd.get_dummies(df, columns=['is_month_end'], drop_first=True, prefix='m_end')\n",
    "\n",
    "df.info()"
   ]
  },
  {
   "cell_type": "code",
   "execution_count": null,
   "metadata": {},
   "outputs": [],
   "source": [
    "# partition the data\n",
    "train = df[df[\"Class\"] == \"Train\"] \n",
    "test = df[df[\"Class\"] == \"Test\"] \n",
    "\n",
    "print(train.shape)\n",
    "print(test.shape)"
   ]
  },
  {
   "cell_type": "code",
   "execution_count": null,
   "metadata": {},
   "outputs": [],
   "source": [
    "# drop unneeded columns\n",
    "train = train.drop(['Class'], axis = 1) \n",
    "test = test.drop(['Class'], axis = 1) "
   ]
  },
  {
   "cell_type": "code",
   "execution_count": null,
   "metadata": {},
   "outputs": [],
   "source": [
    "# create arrays\n",
    "\n",
    "target_column_train = ['Sales'] \n",
    "predictors_train = list(set(list(train.columns))-set(target_column_train))\n",
    "\n",
    "X_train = train[predictors_train].values\n",
    "y_train = train[target_column_train].values\n",
    "\n",
    "print(X_train.shape)\n",
    "print(y_train.shape)\n",
    "\n",
    "\n",
    "target_column_test = ['Sales'] \n",
    "predictors_test = list(set(list(test.columns))-set(target_column_test))\n",
    "\n",
    "X_test = test[predictors_test].values\n",
    "y_test = test[target_column_test].values\n",
    "\n",
    "print(X_test.shape)\n",
    "print(y_test.shape)\n",
    "\n"
   ]
  },
  {
   "cell_type": "code",
   "execution_count": null,
   "metadata": {},
   "outputs": [],
   "source": [
    "from sklearn import model_selection\n",
    "from sklearn.tree import DecisionTreeRegressor\n",
    "from sklearn.ensemble import RandomForestRegressor\n",
    "from sklearn.metrics import r2_score\n",
    "from sklearn.metrics import mean_squared_error\n",
    "from math import sqrt"
   ]
  },
  {
   "cell_type": "code",
   "execution_count": null,
   "metadata": {},
   "outputs": [],
   "source": [
    "# continue building model using \n",
    "# https://www.pluralsight.com/guides/machine-learning-for-time-series-data-in-python\n",
    "# OR\n",
    "# https://srome.github.io/Dealing-With-Trends-Combine-a-Random-Walk-with-a-Tree-Based-Model-to-Predict-Time-Series-Data/"
   ]
  },
  {
   "cell_type": "code",
   "execution_count": null,
   "metadata": {},
   "outputs": [],
   "source": [
    "# extrapolate the model"
   ]
  }
 ],
 "metadata": {
  "kernelspec": {
   "display_name": "Python 3",
   "language": "python",
   "name": "python3"
  },
  "language_info": {
   "codemirror_mode": {
    "name": "ipython",
    "version": 3
   },
   "file_extension": ".py",
   "mimetype": "text/x-python",
   "name": "python",
   "nbconvert_exporter": "python",
   "pygments_lexer": "ipython3",
   "version": "3.7.8"
  }
 },
 "nbformat": 4,
 "nbformat_minor": 4
}
